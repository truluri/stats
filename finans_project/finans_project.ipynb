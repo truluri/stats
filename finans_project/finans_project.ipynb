{
 "cells": [
  {
   "cell_type": "markdown",
   "metadata": {},
   "source": [
    "# Finans Projekt 1 - English\n",
    "This notebook is for assistance with the coding for many of the questions in the project.\n",
    "The sections are marked with the corresponding question in the Project description.\n",
    "Remember, this code is provided to get started with the project, but the code is not complete for answering the corresponding questions"
   ]
  },
  {
   "cell_type": "markdown",
   "metadata": {},
   "source": [
    "#### Initialize python packages"
   ]
  },
  {
   "cell_type": "code",
   "execution_count": 24,
   "metadata": {},
   "outputs": [],
   "source": [
    "import numpy as np\n",
    "import pandas as pd\n",
    "import scipy.stats as stats\n",
    "import matplotlib.pyplot as plt\n",
    "import statsmodels.api as sm"
   ]
  },
  {
   "cell_type": "markdown",
   "metadata": {},
   "source": [
    "#### Read Data"
   ]
  },
  {
   "cell_type": "code",
   "execution_count": 25,
   "metadata": {},
   "outputs": [
    {
     "data": {
      "text/html": [
       "<div>\n",
       "<style scoped>\n",
       "    .dataframe tbody tr th:only-of-type {\n",
       "        vertical-align: middle;\n",
       "    }\n",
       "\n",
       "    .dataframe tbody tr th {\n",
       "        vertical-align: top;\n",
       "    }\n",
       "\n",
       "    .dataframe thead th {\n",
       "        text-align: right;\n",
       "    }\n",
       "</style>\n",
       "<table border=\"1\" class=\"dataframe\">\n",
       "  <thead>\n",
       "    <tr style=\"text-align: right;\">\n",
       "      <th></th>\n",
       "      <th>t</th>\n",
       "      <th>AGG</th>\n",
       "      <th>VAW</th>\n",
       "      <th>IWN</th>\n",
       "      <th>SPY</th>\n",
       "    </tr>\n",
       "  </thead>\n",
       "  <tbody>\n",
       "    <tr>\n",
       "      <th>0</th>\n",
       "      <td>2006-5-5</td>\n",
       "      <td>-0.006088</td>\n",
       "      <td>0.031573</td>\n",
       "      <td>0.023603</td>\n",
       "      <td>0.007987</td>\n",
       "    </tr>\n",
       "    <tr>\n",
       "      <th>1</th>\n",
       "      <td>2006-5-12</td>\n",
       "      <td>-0.003675</td>\n",
       "      <td>-0.027460</td>\n",
       "      <td>-0.048072</td>\n",
       "      <td>-0.024751</td>\n",
       "    </tr>\n",
       "    <tr>\n",
       "      <th>2</th>\n",
       "      <td>2006-5-19</td>\n",
       "      <td>0.006661</td>\n",
       "      <td>-0.050000</td>\n",
       "      <td>-0.014096</td>\n",
       "      <td>-0.016558</td>\n",
       "    </tr>\n",
       "    <tr>\n",
       "      <th>3</th>\n",
       "      <td>2006-5-26</td>\n",
       "      <td>0.001832</td>\n",
       "      <td>0.012539</td>\n",
       "      <td>0.009717</td>\n",
       "      <td>0.010071</td>\n",
       "    </tr>\n",
       "    <tr>\n",
       "      <th>4</th>\n",
       "      <td>2006-6-5</td>\n",
       "      <td>-0.004775</td>\n",
       "      <td>-0.022321</td>\n",
       "      <td>-0.017734</td>\n",
       "      <td>-0.009815</td>\n",
       "    </tr>\n",
       "    <tr>\n",
       "      <th>...</th>\n",
       "      <td>...</td>\n",
       "      <td>...</td>\n",
       "      <td>...</td>\n",
       "      <td>...</td>\n",
       "      <td>...</td>\n",
       "    </tr>\n",
       "    <tr>\n",
       "      <th>449</th>\n",
       "      <td>2015-4-10</td>\n",
       "      <td>-0.001615</td>\n",
       "      <td>0.016019</td>\n",
       "      <td>0.000193</td>\n",
       "      <td>0.017438</td>\n",
       "    </tr>\n",
       "    <tr>\n",
       "      <th>450</th>\n",
       "      <td>2015-4-17</td>\n",
       "      <td>0.003775</td>\n",
       "      <td>-0.003171</td>\n",
       "      <td>-0.010406</td>\n",
       "      <td>-0.009950</td>\n",
       "    </tr>\n",
       "    <tr>\n",
       "      <th>451</th>\n",
       "      <td>2015-4-24</td>\n",
       "      <td>-0.001522</td>\n",
       "      <td>0.011181</td>\n",
       "      <td>0.010418</td>\n",
       "      <td>0.017793</td>\n",
       "    </tr>\n",
       "    <tr>\n",
       "      <th>452</th>\n",
       "      <td>2015-5-1</td>\n",
       "      <td>-0.010404</td>\n",
       "      <td>0.014923</td>\n",
       "      <td>-0.023800</td>\n",
       "      <td>-0.004394</td>\n",
       "    </tr>\n",
       "    <tr>\n",
       "      <th>453</th>\n",
       "      <td>2015-5-8</td>\n",
       "      <td>-0.000453</td>\n",
       "      <td>0.004074</td>\n",
       "      <td>0.002566</td>\n",
       "      <td>0.004271</td>\n",
       "    </tr>\n",
       "  </tbody>\n",
       "</table>\n",
       "<p>454 rows × 5 columns</p>\n",
       "</div>"
      ],
      "text/plain": [
       "             t       AGG       VAW       IWN       SPY\n",
       "0     2006-5-5 -0.006088  0.031573  0.023603  0.007987\n",
       "1    2006-5-12 -0.003675 -0.027460 -0.048072 -0.024751\n",
       "2    2006-5-19  0.006661 -0.050000 -0.014096 -0.016558\n",
       "3    2006-5-26  0.001832  0.012539  0.009717  0.010071\n",
       "4     2006-6-5 -0.004775 -0.022321 -0.017734 -0.009815\n",
       "..         ...       ...       ...       ...       ...\n",
       "449  2015-4-10 -0.001615  0.016019  0.000193  0.017438\n",
       "450  2015-4-17  0.003775 -0.003171 -0.010406 -0.009950\n",
       "451  2015-4-24 -0.001522  0.011181  0.010418  0.017793\n",
       "452   2015-5-1 -0.010404  0.014923 -0.023800 -0.004394\n",
       "453   2015-5-8 -0.000453  0.004074  0.002566  0.004271\n",
       "\n",
       "[454 rows x 5 columns]"
      ]
     },
     "execution_count": 25,
     "metadata": {},
     "output_type": "execute_result"
    }
   ],
   "source": [
    "# path to project data (replace with your own path)\n",
    "file_path = '~/introstat/projects/finans3/finans1_data.csv'\n",
    "## Read data into a pandas DataFrame\n",
    "D = pd.read_csv(file_path, delimiter=\";\")\n",
    "D[[\"t\",\"AGG\",\"VAW\",\"IWN\",\"SPY\"]]"
   ]
  },
  {
   "cell_type": "markdown",
   "metadata": {},
   "source": [
    "#### a) Simple summary of data"
   ]
  },
  {
   "cell_type": "code",
   "execution_count": 26,
   "metadata": {},
   "outputs": [
    {
     "name": "stdout",
     "output_type": "stream",
     "text": [
      "Dimension of DataFrame: (454, 5)\n",
      "Variable names: Index(['t', 'AGG', 'VAW', 'IWN', 'SPY'], dtype='object')\n",
      "\n",
      "First few rows of DataFrame:\n"
     ]
    },
    {
     "data": {
      "text/html": [
       "<div>\n",
       "<style scoped>\n",
       "    .dataframe tbody tr th:only-of-type {\n",
       "        vertical-align: middle;\n",
       "    }\n",
       "\n",
       "    .dataframe tbody tr th {\n",
       "        vertical-align: top;\n",
       "    }\n",
       "\n",
       "    .dataframe thead th {\n",
       "        text-align: right;\n",
       "    }\n",
       "</style>\n",
       "<table border=\"1\" class=\"dataframe\">\n",
       "  <thead>\n",
       "    <tr style=\"text-align: right;\">\n",
       "      <th></th>\n",
       "      <th>t</th>\n",
       "      <th>AGG</th>\n",
       "      <th>VAW</th>\n",
       "      <th>IWN</th>\n",
       "      <th>SPY</th>\n",
       "    </tr>\n",
       "  </thead>\n",
       "  <tbody>\n",
       "    <tr>\n",
       "      <th>0</th>\n",
       "      <td>2006-5-5</td>\n",
       "      <td>-0.006088</td>\n",
       "      <td>0.031573</td>\n",
       "      <td>0.023603</td>\n",
       "      <td>0.007987</td>\n",
       "    </tr>\n",
       "    <tr>\n",
       "      <th>1</th>\n",
       "      <td>2006-5-12</td>\n",
       "      <td>-0.003675</td>\n",
       "      <td>-0.027460</td>\n",
       "      <td>-0.048072</td>\n",
       "      <td>-0.024751</td>\n",
       "    </tr>\n",
       "    <tr>\n",
       "      <th>2</th>\n",
       "      <td>2006-5-19</td>\n",
       "      <td>0.006661</td>\n",
       "      <td>-0.050000</td>\n",
       "      <td>-0.014096</td>\n",
       "      <td>-0.016558</td>\n",
       "    </tr>\n",
       "    <tr>\n",
       "      <th>3</th>\n",
       "      <td>2006-5-26</td>\n",
       "      <td>0.001832</td>\n",
       "      <td>0.012539</td>\n",
       "      <td>0.009717</td>\n",
       "      <td>0.010071</td>\n",
       "    </tr>\n",
       "    <tr>\n",
       "      <th>4</th>\n",
       "      <td>2006-6-5</td>\n",
       "      <td>-0.004775</td>\n",
       "      <td>-0.022321</td>\n",
       "      <td>-0.017734</td>\n",
       "      <td>-0.009815</td>\n",
       "    </tr>\n",
       "  </tbody>\n",
       "</table>\n",
       "</div>"
      ],
      "text/plain": [
       "           t       AGG       VAW       IWN       SPY\n",
       "0   2006-5-5 -0.006088  0.031573  0.023603  0.007987\n",
       "1  2006-5-12 -0.003675 -0.027460 -0.048072 -0.024751\n",
       "2  2006-5-19  0.006661 -0.050000 -0.014096 -0.016558\n",
       "3  2006-5-26  0.001832  0.012539  0.009717  0.010071\n",
       "4   2006-6-5 -0.004775 -0.022321 -0.017734 -0.009815"
      ]
     },
     "metadata": {},
     "output_type": "display_data"
    },
    {
     "name": "stdout",
     "output_type": "stream",
     "text": [
      "Last row of DataFrame:\n"
     ]
    },
    {
     "data": {
      "text/html": [
       "<div>\n",
       "<style scoped>\n",
       "    .dataframe tbody tr th:only-of-type {\n",
       "        vertical-align: middle;\n",
       "    }\n",
       "\n",
       "    .dataframe tbody tr th {\n",
       "        vertical-align: top;\n",
       "    }\n",
       "\n",
       "    .dataframe thead th {\n",
       "        text-align: right;\n",
       "    }\n",
       "</style>\n",
       "<table border=\"1\" class=\"dataframe\">\n",
       "  <thead>\n",
       "    <tr style=\"text-align: right;\">\n",
       "      <th></th>\n",
       "      <th>t</th>\n",
       "      <th>AGG</th>\n",
       "      <th>VAW</th>\n",
       "      <th>IWN</th>\n",
       "      <th>SPY</th>\n",
       "    </tr>\n",
       "  </thead>\n",
       "  <tbody>\n",
       "    <tr>\n",
       "      <th>449</th>\n",
       "      <td>2015-4-10</td>\n",
       "      <td>-0.001615</td>\n",
       "      <td>0.016019</td>\n",
       "      <td>0.000193</td>\n",
       "      <td>0.017438</td>\n",
       "    </tr>\n",
       "    <tr>\n",
       "      <th>450</th>\n",
       "      <td>2015-4-17</td>\n",
       "      <td>0.003775</td>\n",
       "      <td>-0.003171</td>\n",
       "      <td>-0.010406</td>\n",
       "      <td>-0.009950</td>\n",
       "    </tr>\n",
       "    <tr>\n",
       "      <th>451</th>\n",
       "      <td>2015-4-24</td>\n",
       "      <td>-0.001522</td>\n",
       "      <td>0.011181</td>\n",
       "      <td>0.010418</td>\n",
       "      <td>0.017793</td>\n",
       "    </tr>\n",
       "    <tr>\n",
       "      <th>452</th>\n",
       "      <td>2015-5-1</td>\n",
       "      <td>-0.010404</td>\n",
       "      <td>0.014923</td>\n",
       "      <td>-0.023800</td>\n",
       "      <td>-0.004394</td>\n",
       "    </tr>\n",
       "    <tr>\n",
       "      <th>453</th>\n",
       "      <td>2015-5-8</td>\n",
       "      <td>-0.000453</td>\n",
       "      <td>0.004074</td>\n",
       "      <td>0.002566</td>\n",
       "      <td>0.004271</td>\n",
       "    </tr>\n",
       "  </tbody>\n",
       "</table>\n",
       "</div>"
      ],
      "text/plain": [
       "             t       AGG       VAW       IWN       SPY\n",
       "449  2015-4-10 -0.001615  0.016019  0.000193  0.017438\n",
       "450  2015-4-17  0.003775 -0.003171 -0.010406 -0.009950\n",
       "451  2015-4-24 -0.001522  0.011181  0.010418  0.017793\n",
       "452   2015-5-1 -0.010404  0.014923 -0.023800 -0.004394\n",
       "453   2015-5-8 -0.000453  0.004074  0.002566  0.004271"
      ]
     },
     "metadata": {},
     "output_type": "display_data"
    },
    {
     "name": "stdout",
     "output_type": "stream",
     "text": [
      "Some summary statistics:\n"
     ]
    },
    {
     "data": {
      "text/html": [
       "<div>\n",
       "<style scoped>\n",
       "    .dataframe tbody tr th:only-of-type {\n",
       "        vertical-align: middle;\n",
       "    }\n",
       "\n",
       "    .dataframe tbody tr th {\n",
       "        vertical-align: top;\n",
       "    }\n",
       "\n",
       "    .dataframe thead th {\n",
       "        text-align: right;\n",
       "    }\n",
       "</style>\n",
       "<table border=\"1\" class=\"dataframe\">\n",
       "  <thead>\n",
       "    <tr style=\"text-align: right;\">\n",
       "      <th></th>\n",
       "      <th>AGG</th>\n",
       "      <th>VAW</th>\n",
       "      <th>IWN</th>\n",
       "      <th>SPY</th>\n",
       "    </tr>\n",
       "  </thead>\n",
       "  <tbody>\n",
       "    <tr>\n",
       "      <th>count</th>\n",
       "      <td>454.000000</td>\n",
       "      <td>454.000000</td>\n",
       "      <td>454.000000</td>\n",
       "      <td>454.000000</td>\n",
       "    </tr>\n",
       "    <tr>\n",
       "      <th>mean</th>\n",
       "      <td>0.000266</td>\n",
       "      <td>0.001794</td>\n",
       "      <td>0.001188</td>\n",
       "      <td>0.001360</td>\n",
       "    </tr>\n",
       "    <tr>\n",
       "      <th>std</th>\n",
       "      <td>0.005976</td>\n",
       "      <td>0.036083</td>\n",
       "      <td>0.032015</td>\n",
       "      <td>0.024786</td>\n",
       "    </tr>\n",
       "    <tr>\n",
       "      <th>min</th>\n",
       "      <td>-0.029604</td>\n",
       "      <td>-0.203660</td>\n",
       "      <td>-0.179655</td>\n",
       "      <td>-0.137598</td>\n",
       "    </tr>\n",
       "    <tr>\n",
       "      <th>25%</th>\n",
       "      <td>-0.002973</td>\n",
       "      <td>-0.016096</td>\n",
       "      <td>-0.014305</td>\n",
       "      <td>-0.011325</td>\n",
       "    </tr>\n",
       "    <tr>\n",
       "      <th>50%</th>\n",
       "      <td>0.000237</td>\n",
       "      <td>0.004798</td>\n",
       "      <td>0.003120</td>\n",
       "      <td>0.004216</td>\n",
       "    </tr>\n",
       "    <tr>\n",
       "      <th>75%</th>\n",
       "      <td>0.003893</td>\n",
       "      <td>0.019685</td>\n",
       "      <td>0.019056</td>\n",
       "      <td>0.014498</td>\n",
       "    </tr>\n",
       "    <tr>\n",
       "      <th>max</th>\n",
       "      <td>0.030507</td>\n",
       "      <td>0.142977</td>\n",
       "      <td>0.126702</td>\n",
       "      <td>0.083276</td>\n",
       "    </tr>\n",
       "  </tbody>\n",
       "</table>\n",
       "</div>"
      ],
      "text/plain": [
       "              AGG         VAW         IWN         SPY\n",
       "count  454.000000  454.000000  454.000000  454.000000\n",
       "mean     0.000266    0.001794    0.001188    0.001360\n",
       "std      0.005976    0.036083    0.032015    0.024786\n",
       "min     -0.029604   -0.203660   -0.179655   -0.137598\n",
       "25%     -0.002973   -0.016096   -0.014305   -0.011325\n",
       "50%      0.000237    0.004798    0.003120    0.004216\n",
       "75%      0.003893    0.019685    0.019056    0.014498\n",
       "max      0.030507    0.142977    0.126702    0.083276"
      ]
     },
     "metadata": {},
     "output_type": "display_data"
    },
    {
     "name": "stdout",
     "output_type": "stream",
     "text": [
      "Data types: t       object\n",
      "AGG    float64\n",
      "VAW    float64\n",
      "IWN    float64\n",
      "SPY    float64\n",
      "dtype: object\n"
     ]
    }
   ],
   "source": [
    "D = D[[\"t\",\"AGG\",\"VAW\",\"IWN\",\"SPY\"]]\n",
    "print(f\"Dimension of DataFrame: {D.shape}\") # f-strings allow us to insert variables directly into the string\n",
    "print(f\"Variable names: {D.columns}\")\n",
    "print(\"\\nFirst few rows of DataFrame:\") # \\n is the newline character for strings\n",
    "display(D.head())\n",
    "print(\"Last row of DataFrame:\")\n",
    "display(D.tail())\n",
    "print(\"Some summary statistics:\")\n",
    "display(D.describe())\n",
    "print(\"Data types:\", D.dtypes)"
   ]
  },
  {
   "cell_type": "markdown",
   "metadata": {},
   "source": [
    "#### b) Summary statistics"
   ]
  },
  {
   "cell_type": "code",
   "execution_count": 27,
   "metadata": {},
   "outputs": [],
   "source": [
    "# Calculate the required statistics\n",
    "D2 = D[[\"AGG\", \"VAW\", \"IWN\", \"SPY\"]]\n",
    "no_obs = D2.notna().sum()\n",
    "avg = D2.mean()\n",
    "var = D2.var(ddof=1)\n",
    "sd = D2.std(ddof=1)\n",
    "quantiles = pd.DataFrame(np.quantile(D2, [0.25, 0.5, 0.75],\n",
    "                                     method='averaged_inverted_cdf', axis=0).T,\n",
    "                                     index=D2.columns)"
   ]
  },
  {
   "cell_type": "code",
   "execution_count": null,
   "metadata": {},
   "outputs": [],
   "source": []
  },
  {
   "cell_type": "markdown",
   "metadata": {},
   "source": [
    "#### Statistical analysis I"
   ]
  },
  {
   "cell_type": "markdown",
   "metadata": {},
   "source": [
    "#### d)"
   ]
  },
  {
   "cell_type": "code",
   "execution_count": 28,
   "metadata": {},
   "outputs": [
    {
     "name": "stdout",
     "output_type": "stream",
     "text": [
      "          AGG       VAW       IWN       SPY\n",
      "AGG  0.000036 -0.000043 -0.000026 -0.000032\n",
      "VAW -0.000043  0.001302  0.000984  0.000793\n",
      "IWN -0.000026  0.000984  0.001025  0.000722\n",
      "SPY -0.000032  0.000793  0.000722  0.000614\n"
     ]
    }
   ],
   "source": [
    "covariance_table = D[['AGG', 'VAW', 'IWN', 'SPY']].cov()\n",
    "print(covariance_table)"
   ]
  },
  {
   "cell_type": "markdown",
   "metadata": {},
   "source": [
    "#### f) "
   ]
  },
  {
   "cell_type": "markdown",
   "metadata": {},
   "source": [
    "#### Problem 2 - Best investment"
   ]
  },
  {
   "cell_type": "markdown",
   "metadata": {},
   "source": [
    "#### g) "
   ]
  },
  {
   "cell_type": "code",
   "execution_count": 29,
   "metadata": {},
   "outputs": [
    {
     "data": {
      "text/plain": [
       "Text(0.5, 1.0, 'AGG')"
      ]
     },
     "execution_count": 29,
     "metadata": {},
     "output_type": "execute_result"
    },
    {
     "data": {
      "image/png": "[encoded data removed]",
      "text/plain": [
       "<Figure size 1000x800 with 4 Axes>"
      ]
     },
     "metadata": {},
     "output_type": "display_data"
    }
   ],
   "source": [
    "fig, axs = plt.subplots(2, 2, figsize=(10, 8))\n",
    "sm.qqplot(D2[\"AGG\"].dropna(), line ='q',a=1/2,ax=axs[0, 0])\n",
    "axs[0, 0].set_title('AGG')\n",
    "## Do the same for the other ETFs"
   ]
  },
  {
   "cell_type": "markdown",
   "metadata": {},
   "source": [
    "#### h) Tests"
   ]
  },
  {
   "cell_type": "code",
   "execution_count": 30,
   "metadata": {},
   "outputs": [
    {
     "data": {
      "text/plain": [
       "np.float64(1.9652145681681557)"
      ]
     },
     "execution_count": 30,
     "metadata": {},
     "output_type": "execute_result"
    }
   ],
   "source": [
    "###########################\n",
    "## Calculations of the 95% confidence intervals\n",
    "## t-quantile for the confidence interval for the mean of AGG,\n",
    "## since the degrees of freedom for the mean of AGG are 453\n",
    "cri_val = stats.t.ppf(0.975, 453)\n",
    "cri_val"
   ]
  },
  {
   "cell_type": "markdown",
   "metadata": {},
   "source": [
    "## EXTRA\n",
    "#### Subsets in Python"
   ]
  },
  {
   "cell_type": "code",
   "execution_count": 31,
   "metadata": {},
   "outputs": [
    {
     "name": "stdout",
     "output_type": "stream",
     "text": [
      "Weeks with negative returns in AGG:\n"
     ]
    },
    {
     "data": {
      "text/plain": [
       "0     -0.006088\n",
       "1     -0.003675\n",
       "4     -0.004775\n",
       "6     -0.005812\n",
       "7     -0.005744\n",
       "         ...   \n",
       "444   -0.004508\n",
       "449   -0.001615\n",
       "451   -0.001522\n",
       "452   -0.010404\n",
       "453   -0.000453\n",
       "Name: AGG, Length: 214, dtype: float64"
      ]
     },
     "metadata": {},
     "output_type": "display_data"
    },
    {
     "name": "stdout",
     "output_type": "stream",
     "text": [
      "Weeks with negative returns in AGG (query method):\n"
     ]
    },
    {
     "data": {
      "text/html": [
       "<div>\n",
       "<style scoped>\n",
       "    .dataframe tbody tr th:only-of-type {\n",
       "        vertical-align: middle;\n",
       "    }\n",
       "\n",
       "    .dataframe tbody tr th {\n",
       "        vertical-align: top;\n",
       "    }\n",
       "\n",
       "    .dataframe thead th {\n",
       "        text-align: right;\n",
       "    }\n",
       "</style>\n",
       "<table border=\"1\" class=\"dataframe\">\n",
       "  <thead>\n",
       "    <tr style=\"text-align: right;\">\n",
       "      <th></th>\n",
       "      <th>t</th>\n",
       "      <th>AGG</th>\n",
       "      <th>VAW</th>\n",
       "      <th>IWN</th>\n",
       "      <th>SPY</th>\n",
       "    </tr>\n",
       "  </thead>\n",
       "  <tbody>\n",
       "    <tr>\n",
       "      <th>0</th>\n",
       "      <td>2006-5-5</td>\n",
       "      <td>-0.006088</td>\n",
       "      <td>0.031573</td>\n",
       "      <td>0.023603</td>\n",
       "      <td>0.007987</td>\n",
       "    </tr>\n",
       "    <tr>\n",
       "      <th>1</th>\n",
       "      <td>2006-5-12</td>\n",
       "      <td>-0.003675</td>\n",
       "      <td>-0.027460</td>\n",
       "      <td>-0.048072</td>\n",
       "      <td>-0.024751</td>\n",
       "    </tr>\n",
       "    <tr>\n",
       "      <th>4</th>\n",
       "      <td>2006-6-5</td>\n",
       "      <td>-0.004775</td>\n",
       "      <td>-0.022321</td>\n",
       "      <td>-0.017734</td>\n",
       "      <td>-0.009815</td>\n",
       "    </tr>\n",
       "    <tr>\n",
       "      <th>6</th>\n",
       "      <td>2006-6-19</td>\n",
       "      <td>-0.005812</td>\n",
       "      <td>0.001998</td>\n",
       "      <td>-0.005530</td>\n",
       "      <td>-0.002581</td>\n",
       "    </tr>\n",
       "    <tr>\n",
       "      <th>7</th>\n",
       "      <td>2006-6-26</td>\n",
       "      <td>-0.005744</td>\n",
       "      <td>0.035400</td>\n",
       "      <td>0.017855</td>\n",
       "      <td>0.010674</td>\n",
       "    </tr>\n",
       "    <tr>\n",
       "      <th>...</th>\n",
       "      <td>...</td>\n",
       "      <td>...</td>\n",
       "      <td>...</td>\n",
       "      <td>...</td>\n",
       "      <td>...</td>\n",
       "    </tr>\n",
       "    <tr>\n",
       "      <th>444</th>\n",
       "      <td>2015-3-5</td>\n",
       "      <td>-0.004508</td>\n",
       "      <td>-0.009821</td>\n",
       "      <td>-0.007532</td>\n",
       "      <td>-0.004352</td>\n",
       "    </tr>\n",
       "    <tr>\n",
       "      <th>449</th>\n",
       "      <td>2015-4-10</td>\n",
       "      <td>-0.001615</td>\n",
       "      <td>0.016019</td>\n",
       "      <td>0.000193</td>\n",
       "      <td>0.017438</td>\n",
       "    </tr>\n",
       "    <tr>\n",
       "      <th>451</th>\n",
       "      <td>2015-4-24</td>\n",
       "      <td>-0.001522</td>\n",
       "      <td>0.011181</td>\n",
       "      <td>0.010418</td>\n",
       "      <td>0.017793</td>\n",
       "    </tr>\n",
       "    <tr>\n",
       "      <th>452</th>\n",
       "      <td>2015-5-1</td>\n",
       "      <td>-0.010404</td>\n",
       "      <td>0.014923</td>\n",
       "      <td>-0.023800</td>\n",
       "      <td>-0.004394</td>\n",
       "    </tr>\n",
       "    <tr>\n",
       "      <th>453</th>\n",
       "      <td>2015-5-8</td>\n",
       "      <td>-0.000453</td>\n",
       "      <td>0.004074</td>\n",
       "      <td>0.002566</td>\n",
       "      <td>0.004271</td>\n",
       "    </tr>\n",
       "  </tbody>\n",
       "</table>\n",
       "<p>214 rows × 5 columns</p>\n",
       "</div>"
      ],
      "text/plain": [
       "             t       AGG       VAW       IWN       SPY\n",
       "0     2006-5-5 -0.006088  0.031573  0.023603  0.007987\n",
       "1    2006-5-12 -0.003675 -0.027460 -0.048072 -0.024751\n",
       "4     2006-6-5 -0.004775 -0.022321 -0.017734 -0.009815\n",
       "6    2006-6-19 -0.005812  0.001998 -0.005530 -0.002581\n",
       "7    2006-6-26 -0.005744  0.035400  0.017855  0.010674\n",
       "..         ...       ...       ...       ...       ...\n",
       "444   2015-3-5 -0.004508 -0.009821 -0.007532 -0.004352\n",
       "449  2015-4-10 -0.001615  0.016019  0.000193  0.017438\n",
       "451  2015-4-24 -0.001522  0.011181  0.010418  0.017793\n",
       "452   2015-5-1 -0.010404  0.014923 -0.023800 -0.004394\n",
       "453   2015-5-8 -0.000453  0.004074  0.002566  0.004271\n",
       "\n",
       "[214 rows x 5 columns]"
      ]
     },
     "metadata": {},
     "output_type": "display_data"
    },
    {
     "name": "stdout",
     "output_type": "stream",
     "text": [
      "Weeks with negative returns in AGG (loc method):\n"
     ]
    },
    {
     "data": {
      "text/plain": [
       "0     -0.006088\n",
       "1     -0.003675\n",
       "4     -0.004775\n",
       "6     -0.005812\n",
       "7     -0.005744\n",
       "         ...   \n",
       "444   -0.004508\n",
       "449   -0.001615\n",
       "451   -0.001522\n",
       "452   -0.010404\n",
       "453   -0.000453\n",
       "Name: AGG, Length: 214, dtype: float64"
      ]
     },
     "metadata": {},
     "output_type": "display_data"
    },
    {
     "name": "stdout",
     "output_type": "stream",
     "text": [
      "Weeks with negative AGG returns and positive SPY returns:\n"
     ]
    },
    {
     "data": {
      "text/html": [
       "<div>\n",
       "<style scoped>\n",
       "    .dataframe tbody tr th:only-of-type {\n",
       "        vertical-align: middle;\n",
       "    }\n",
       "\n",
       "    .dataframe tbody tr th {\n",
       "        vertical-align: top;\n",
       "    }\n",
       "\n",
       "    .dataframe thead th {\n",
       "        text-align: right;\n",
       "    }\n",
       "</style>\n",
       "<table border=\"1\" class=\"dataframe\">\n",
       "  <thead>\n",
       "    <tr style=\"text-align: right;\">\n",
       "      <th></th>\n",
       "      <th>t</th>\n",
       "      <th>AGG</th>\n",
       "      <th>VAW</th>\n",
       "      <th>IWN</th>\n",
       "      <th>SPY</th>\n",
       "    </tr>\n",
       "  </thead>\n",
       "  <tbody>\n",
       "    <tr>\n",
       "      <th>0</th>\n",
       "      <td>2006-5-5</td>\n",
       "      <td>-0.006088</td>\n",
       "      <td>0.031573</td>\n",
       "      <td>0.023603</td>\n",
       "      <td>0.007987</td>\n",
       "    </tr>\n",
       "    <tr>\n",
       "      <th>7</th>\n",
       "      <td>2006-6-26</td>\n",
       "      <td>-0.005744</td>\n",
       "      <td>0.035400</td>\n",
       "      <td>0.017855</td>\n",
       "      <td>0.010674</td>\n",
       "    </tr>\n",
       "    <tr>\n",
       "      <th>14</th>\n",
       "      <td>2006-8-15</td>\n",
       "      <td>-0.000101</td>\n",
       "      <td>0.007605</td>\n",
       "      <td>0.019658</td>\n",
       "      <td>0.009575</td>\n",
       "    </tr>\n",
       "    <tr>\n",
       "      <th>22</th>\n",
       "      <td>2006-10-11</td>\n",
       "      <td>-0.009680</td>\n",
       "      <td>0.024822</td>\n",
       "      <td>0.008839</td>\n",
       "      <td>0.001408</td>\n",
       "    </tr>\n",
       "    <tr>\n",
       "      <th>24</th>\n",
       "      <td>2006-10-25</td>\n",
       "      <td>-0.000201</td>\n",
       "      <td>0.015830</td>\n",
       "      <td>0.004393</td>\n",
       "      <td>0.012885</td>\n",
       "    </tr>\n",
       "    <tr>\n",
       "      <th>...</th>\n",
       "      <td>...</td>\n",
       "      <td>...</td>\n",
       "      <td>...</td>\n",
       "      <td>...</td>\n",
       "      <td>...</td>\n",
       "    </tr>\n",
       "    <tr>\n",
       "      <th>441</th>\n",
       "      <td>2015-2-11</td>\n",
       "      <td>-0.009559</td>\n",
       "      <td>0.025773</td>\n",
       "      <td>0.002199</td>\n",
       "      <td>0.014064</td>\n",
       "    </tr>\n",
       "    <tr>\n",
       "      <th>442</th>\n",
       "      <td>2015-2-19</td>\n",
       "      <td>-0.003067</td>\n",
       "      <td>0.030951</td>\n",
       "      <td>0.014759</td>\n",
       "      <td>0.014739</td>\n",
       "    </tr>\n",
       "    <tr>\n",
       "      <th>449</th>\n",
       "      <td>2015-4-10</td>\n",
       "      <td>-0.001615</td>\n",
       "      <td>0.016019</td>\n",
       "      <td>0.000193</td>\n",
       "      <td>0.017438</td>\n",
       "    </tr>\n",
       "    <tr>\n",
       "      <th>451</th>\n",
       "      <td>2015-4-24</td>\n",
       "      <td>-0.001522</td>\n",
       "      <td>0.011181</td>\n",
       "      <td>0.010418</td>\n",
       "      <td>0.017793</td>\n",
       "    </tr>\n",
       "    <tr>\n",
       "      <th>453</th>\n",
       "      <td>2015-5-8</td>\n",
       "      <td>-0.000453</td>\n",
       "      <td>0.004074</td>\n",
       "      <td>0.002566</td>\n",
       "      <td>0.004271</td>\n",
       "    </tr>\n",
       "  </tbody>\n",
       "</table>\n",
       "<p>145 rows × 5 columns</p>\n",
       "</div>"
      ],
      "text/plain": [
       "              t       AGG       VAW       IWN       SPY\n",
       "0      2006-5-5 -0.006088  0.031573  0.023603  0.007987\n",
       "7     2006-6-26 -0.005744  0.035400  0.017855  0.010674\n",
       "14    2006-8-15 -0.000101  0.007605  0.019658  0.009575\n",
       "22   2006-10-11 -0.009680  0.024822  0.008839  0.001408\n",
       "24   2006-10-25 -0.000201  0.015830  0.004393  0.012885\n",
       "..          ...       ...       ...       ...       ...\n",
       "441   2015-2-11 -0.009559  0.025773  0.002199  0.014064\n",
       "442   2015-2-19 -0.003067  0.030951  0.014759  0.014739\n",
       "449   2015-4-10 -0.001615  0.016019  0.000193  0.017438\n",
       "451   2015-4-24 -0.001522  0.011181  0.010418  0.017793\n",
       "453    2015-5-8 -0.000453  0.004074  0.002566  0.004271\n",
       "\n",
       "[145 rows x 5 columns]"
      ]
     },
     "metadata": {},
     "output_type": "display_data"
    }
   ],
   "source": [
    "## df['AGG'] < 0 returns all observations where AGG is negative\n",
    "## Can be used to extract all AGG losses\n",
    "loss_weeks = D['AGG'] < 0\n",
    "agg_losses = D['AGG'][loss_weeks]\n",
    "print(\"Weeks with negative returns in AGG:\")\n",
    "display(agg_losses)\n",
    "\n",
    "## Alternatively, use the 'query' method\n",
    "agg_losses_query = D.query('AGG < 0')\n",
    "print(\"Weeks with negative returns in AGG (query method):\")\n",
    "display(agg_losses_query)\n",
    "# Or use the 'loc' method\n",
    "agg_losses_loc = D.loc[D['AGG'] < 0, 'AGG']\n",
    "print(\"Weeks with negative returns in AGG (loc method):\")\n",
    "display(agg_losses_loc)\n",
    "\n",
    "## More complex logical expressions can be made, e.g.:\n",
    "## Find all observations from weeks where AGG had a loss and SPY had a gain\n",
    "agg_loss_spy_gain = D.query('AGG < 0 & SPY > 0')\n",
    "print(\"Weeks with negative AGG returns and positive SPY returns:\")\n",
    "display(agg_loss_spy_gain)\n",
    "\n",
    "# \"display()\" function gives a nicer table than print. It is \n",
    "# especially useful when working with dataframes (pandas)"
   ]
  },
  {
   "cell_type": "markdown",
   "metadata": {},
   "source": [
    "#### Additional Python tips"
   ]
  },
  {
   "cell_type": "code",
   "execution_count": 32,
   "metadata": {},
   "outputs": [
    {
     "data": {
      "text/html": [
       "<div>\n",
       "<style scoped>\n",
       "    .dataframe tbody tr th:only-of-type {\n",
       "        vertical-align: middle;\n",
       "    }\n",
       "\n",
       "    .dataframe tbody tr th {\n",
       "        vertical-align: top;\n",
       "    }\n",
       "\n",
       "    .dataframe thead th {\n",
       "        text-align: right;\n",
       "    }\n",
       "</style>\n",
       "<table border=\"1\" class=\"dataframe\">\n",
       "  <thead>\n",
       "    <tr style=\"text-align: right;\">\n",
       "      <th></th>\n",
       "      <th>ETF_mean</th>\n",
       "      <th>ETF_var</th>\n",
       "    </tr>\n",
       "  </thead>\n",
       "  <tbody>\n",
       "    <tr>\n",
       "      <th>AGG</th>\n",
       "      <td>0.000266</td>\n",
       "      <td>0.000036</td>\n",
       "    </tr>\n",
       "    <tr>\n",
       "      <th>VAW</th>\n",
       "      <td>0.001794</td>\n",
       "      <td>0.001302</td>\n",
       "    </tr>\n",
       "    <tr>\n",
       "      <th>IWN</th>\n",
       "      <td>0.001188</td>\n",
       "      <td>0.001025</td>\n",
       "    </tr>\n",
       "    <tr>\n",
       "      <th>SPY</th>\n",
       "      <td>0.001360</td>\n",
       "      <td>0.000614</td>\n",
       "    </tr>\n",
       "  </tbody>\n",
       "</table>\n",
       "</div>"
      ],
      "text/plain": [
       "     ETF_mean   ETF_var\n",
       "AGG  0.000266  0.000036\n",
       "VAW  0.001794  0.001302\n",
       "IWN  0.001188  0.001025\n",
       "SPY  0.001360  0.000614"
      ]
     },
     "metadata": {},
     "output_type": "display_data"
    }
   ],
   "source": [
    "## Make a for loop to calculate some summary \n",
    "## statistics and save the result in a new data frame\n",
    "Tbl = pd.DataFrame()\n",
    "for i in ['AGG', 'VAW', 'IWN', 'SPY']:\n",
    "    Tbl.loc[i, \"ETF_mean\"] = D[i].mean()\n",
    "    Tbl.loc[i, \"ETF_var\"] = D[i].var(ddof=1) \n",
    "    \n",
    "# show\n",
    "display(Tbl)"
   ]
  },
  {
   "cell_type": "code",
   "execution_count": 33,
   "metadata": {},
   "outputs": [
    {
     "data": {
      "text/html": [
       "<div>\n",
       "<style scoped>\n",
       "    .dataframe tbody tr th:only-of-type {\n",
       "        vertical-align: middle;\n",
       "    }\n",
       "\n",
       "    .dataframe tbody tr th {\n",
       "        vertical-align: top;\n",
       "    }\n",
       "\n",
       "    .dataframe thead th {\n",
       "        text-align: right;\n",
       "    }\n",
       "</style>\n",
       "<table border=\"1\" class=\"dataframe\">\n",
       "  <thead>\n",
       "    <tr style=\"text-align: right;\">\n",
       "      <th></th>\n",
       "      <th>AGG</th>\n",
       "      <th>VAW</th>\n",
       "      <th>IWN</th>\n",
       "      <th>SPY</th>\n",
       "    </tr>\n",
       "  </thead>\n",
       "  <tbody>\n",
       "    <tr>\n",
       "      <th>mean</th>\n",
       "      <td>0.000266</td>\n",
       "      <td>0.001794</td>\n",
       "      <td>0.001188</td>\n",
       "      <td>0.001360</td>\n",
       "    </tr>\n",
       "    <tr>\n",
       "      <th>var</th>\n",
       "      <td>0.000036</td>\n",
       "      <td>0.001302</td>\n",
       "      <td>0.001025</td>\n",
       "      <td>0.000614</td>\n",
       "    </tr>\n",
       "  </tbody>\n",
       "</table>\n",
       "</div>"
      ],
      "text/plain": [
       "           AGG       VAW       IWN       SPY\n",
       "mean  0.000266  0.001794  0.001188  0.001360\n",
       "var   0.000036  0.001302  0.001025  0.000614"
      ]
     },
     "metadata": {},
     "output_type": "display_data"
    }
   ],
   "source": [
    "# There are many other ways to do these calculations, some more concise. For example\n",
    "# Calculate mean and variance for all columns but 't'\n",
    "result = D.drop(columns='t').agg(['mean', 'var'])\n",
    "\n",
    "# The agg function(aggregate) is used to calculate the mean and variance of returns for each ETF.\n",
    "display(result)\n",
    "\n",
    "# See more functions in pandas documentation: https://pandas.pydata.org/pandas-docs/stable/reference/api/pandas.DataFrame.html\n",
    "# Numpy documentationen: https://numpy.org/doc/stable/reference/index.html\n",
    "# Or find documentation or guides on other python packages/functions online."
   ]
  },
  {
   "cell_type": "markdown",
   "metadata": {},
   "source": [
    "#### Latex Tips\n",
    "Pandas (pd) also includes a function that is very handy for writing tables/dataframes directly into Latex-code. \n",
    "This is done by usind the function `pd.to_latex()`."
   ]
  }
 ],
 "metadata": {
  "kernelspec": {
   "display_name": "Python 3",
   "language": "python",
   "name": "python3"
  },
  "language_info": {
   "codemirror_mode": {
    "name": "ipython",
    "version": 3
   },
   "file_extension": ".py",
   "mimetype": "text/x-python",
   "name": "python",
   "nbconvert_exporter": "python",
   "pygments_lexer": "ipython3",
   "version": "3.10.16"
  }
 },
 "nbformat": 4,
 "nbformat_minor": 2
}
